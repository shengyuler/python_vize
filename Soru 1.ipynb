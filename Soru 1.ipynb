{
 "cells": [
  {
   "cell_type": "code",
   "execution_count": null,
   "id": "4f07a91e-6c01-4cb8-9d12-7ca727a0f26f",
   "metadata": {},
   "outputs": [
    {
     "name": "stdout",
     "output_type": "stream",
     "text": [
      "(1) Dikdörgen Çizdirme\n",
      "(2) Paralel Kenar Çizdirme\n",
      "(3) İkizkenar Dik Üçgen Çizdirme\n",
      "(4) Çıkış\n"
     ]
    }
   ],
   "source": [
    "def dikdortgen(genislik, yukseklik):\n",
    "    for _ in range(yukseklik):\n",
    "        print('*' * genislik)\n",
    "\n",
    "def paralel_kenar(genislik, yukseklik):\n",
    "    for i in range(yukseklik):\n",
    "        print(' ' * i + '*' * genislik)\n",
    "\n",
    "def ikizkenar_dik_ucgen(yukseklik):\n",
    "    for i in range(1, yukseklik + 1):\n",
    "        print('*' * i)\n",
    "\n",
    "while True:\n",
    "    print(\"(1) Dikdörgen Çizdirme\")\n",
    "    print(\"(2) Paralel Kenar Çizdirme\")\n",
    "    print(\"(3) İkizkenar Dik Üçgen Çizdirme\")\n",
    "    print(\"(4) Çıkış\")\n",
    "    secim = input(\"Seçiminizi Giriniz:\")\n",
    "\n",
    "    if secim == '1':\n",
    "        genislik = int(input(\"Dikdörtgenin genişliğini giriniz:\"))\n",
    "        yukseklik = int(input(\"Dikdörtgenin yüksekliğini giriniz:\"))\n",
    "        dikdortgen(genislik, yukseklik)\n",
    "    elif secim == '2':\n",
    "        genislik = int(input(\"Paralel kenarın genişliğini giriniz:\"))\n",
    "        yukseklik = int(input(\"Paralel kenarın yüksekliğini giriniz:\"))\n",
    "        paralel_kenar(genislik, yukseklik)\n",
    "    elif secim == '3':\n",
    "        yukseklik = int(input(\"Üçgenin yüksekliğini giriniz:\"))\n",
    "        ikizkenar_dik_ucgen(yukseklik)\n",
    "    elif secim == '4':\n",
    "        print(\"Çıkış yapılıyor.\")\n",
    "        break\n",
    "    else:\n",
    "        print(\"Geçersiz seçim.\")\n"
   ]
  },
  {
   "cell_type": "code",
   "execution_count": null,
   "id": "085fc905-a170-48d6-8778-6a0b0582f01d",
   "metadata": {},
   "outputs": [],
   "source": []
  }
 ],
 "metadata": {
  "kernelspec": {
   "display_name": "Python 3 (ipykernel)",
   "language": "python",
   "name": "python3"
  },
  "language_info": {
   "codemirror_mode": {
    "name": "ipython",
    "version": 3
   },
   "file_extension": ".py",
   "mimetype": "text/x-python",
   "name": "python",
   "nbconvert_exporter": "python",
   "pygments_lexer": "ipython3",
   "version": "3.12.3"
  }
 },
 "nbformat": 4,
 "nbformat_minor": 5
}
