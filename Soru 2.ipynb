{
 "cells": [
  {
   "cell_type": "code",
   "execution_count": null,
   "id": "4f07a91e-6c01-4cb8-9d12-7ca727a0f26f",
   "metadata": {},
   "outputs": [],
   "source": [
    "while True:\n",
    "    print(\"(1) Sayının Tek mi Çift mi Olduğunu Bul\")\n",
    "    print(\"(2) Üç Sayıyı Büyükten Küçüğe Sırala\")\n",
    "    print(\"(3) Sayının Asal Olup Olmadığını Bul\")\n",
    "    print(\"(-1) Çıkış\")\n",
    "    secim = input(\"Seçiminizi Giriniz: \")\n",
    "\n",
    "    if secim == '1':\n",
    "        sayi = int(input(\"Bir sayı giriniz: \"))\n",
    "        if sayi % 2 == 0:\n",
    "            print(f\"{sayi} çift sayıdır.\")\n",
    "        else:\n",
    "            print(f\"{sayi} tek sayıdır.\")\n",
    "    elif secim == '2':\n",
    "        sayilar = []\n",
    "        for i in range(3):\n",
    "            sayilar.append(int(input(f\"{i + 1}. sayıyı giriniz: \")))\n",
    "        print(\"Sıralama:\", sorted(sayilar, reverse=True))\n",
    "    elif secim == '3':\n",
    "        sayi = int(input(\"Bir sayı giriniz: \"))\n",
    "        if sayi < 2:\n",
    "            print(f\"{sayi} asal sayı değildir.\")\n",
    "        else:\n",
    "            for i in range(2, int(sayi**0.5) + 1):\n",
    "                if sayi % i == 0:\n",
    "                    print(f\"{sayi} asal sayı değildir.\")\n",
    "                    break\n",
    "            else:\n",
    "                print(f\"{sayi} asal sayıdır.\")\n",
    "    elif secim == '-1':\n",
    "        print(\"Çıkış yapılıyor.\")\n",
    "        break\n",
    "    else:\n",
    "        print(\"Yanlış değer girdiniz, tekrar giriş yapınız.\")\n",
    "\n"
   ]
  },
  {
   "cell_type": "code",
   "execution_count": null,
   "id": "085fc905-a170-48d6-8778-6a0b0582f01d",
   "metadata": {},
   "outputs": [],
   "source": []
  }
 ],
 "metadata": {
  "kernelspec": {
   "display_name": "Python 3 (ipykernel)",
   "language": "python",
   "name": "python3"
  },
  "language_info": {
   "codemirror_mode": {
    "name": "ipython",
    "version": 3
   },
   "file_extension": ".py",
   "mimetype": "text/x-python",
   "name": "python",
   "nbconvert_exporter": "python",
   "pygments_lexer": "ipython3",
   "version": "3.12.3"
  }
 },
 "nbformat": 4,
 "nbformat_minor": 5
}
